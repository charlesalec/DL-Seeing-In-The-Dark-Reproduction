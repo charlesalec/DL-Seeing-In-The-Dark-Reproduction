{
 "cells": [
  {
   "cell_type": "code",
   "execution_count": 1,
   "metadata": {},
   "outputs": [
    {
     "name": "stderr",
     "output_type": "stream",
     "text": [
      "/home/charles/.local/lib/python3.10/site-packages/tqdm/auto.py:22: TqdmWarning: IProgress not found. Please update jupyter and ipywidgets. See https://ipywidgets.readthedocs.io/en/stable/user_install.html\n",
      "  from .autonotebook import tqdm as notebook_tqdm\n"
     ]
    }
   ],
   "source": [
    "from unet import *\n",
    "import functions\n",
    "import numpy as np\n",
    "import os\n",
    "import cv2\n",
    "import matplotlib.pyplot as plt\n",
    "import torch \n",
    "import torch.nn as nn\n",
    "import torch.optim as optim\n",
    "from tqdm import trange\n",
    "from torch.utils.data import DataLoader\n",
    "from torch.utils.data import Dataset\n",
    "import pandas as pd\n",
    "import scipy.io\n",
    "# tensor summary import\n",
    "from torchsummary import summary"
   ]
  },
  {
   "cell_type": "code",
   "execution_count": 2,
   "metadata": {},
   "outputs": [
    {
     "name": "stdout",
     "output_type": "stream",
     "text": [
      "==> Device: cuda\n"
     ]
    }
   ],
   "source": [
    "Net = build_unet()\n",
    "# check if CUDA is available, and set it as the device\n",
    "device = torch.device(\"cuda\" if torch.cuda.is_available() else \"cpu\")\n",
    "print(\"==> Device: {}\".format(device))\n",
    "\n",
    "# move model to the device\n",
    "Net.to(device)\n",
    "\n",
    "# define loss function\n",
    "#loss_function = nn.MSELoss()\n",
    "loss_function = nn.L1Loss()\n",
    "\n",
    "####### HYPERPARAMETERS #######\n",
    "\n",
    "# learning rate = 10^-4\n",
    "lr = 0.0001\n",
    "\n",
    "# patch size\n",
    "patch_size = 512\n",
    "\n",
    "# define optimizer\n",
    "optimizer = optim.Adam(Net.parameters(), lr=lr)\n",
    "\n",
    "# batch size\n",
    "batch_size = 1\n",
    "\n",
    "# define number of epochs\n",
    "n_epochs = 100\n",
    "\n",
    "# keep track of the best validation loss\n",
    "valid_loss_min = np.Inf\n",
    "\n",
    "# number of epochs to wait before stopping\n",
    "early_stopping = 5\n",
    "\n",
    "\n",
    "##### LOSS  #######\n",
    "\n",
    "# keep track of training and validation loss\n",
    "train_loss = []\n",
    "valid_loss = []\n",
    "\n",
    "# initialize the early_stopping object\n",
    "# early_stopping = EarlyStopping(patience=early_stopping, verbose=True)\n",
    "\n"
   ]
  },
  {
   "cell_type": "code",
   "execution_count": 3,
   "metadata": {},
   "outputs": [
    {
     "name": "stdout",
     "output_type": "stream",
     "text": [
      "number of images in dataset: 944\n"
     ]
    }
   ],
   "source": [
    "# read the list.txt as a space separated dataframe\n",
    "df = pd.read_csv('list.csv', sep=',', header=None)\n",
    "#df = pd.read_csv('list_shortkingdom.csv', sep=',', header=None)\n",
    "#df = pd.read_csv('list_extrashortkingdom.csv', sep=',', header=None)\n",
    "#df = pd.read_csv('list.csv', sep=',', header=None)\n",
    "\n",
    "# split df into input, label columns\n",
    "input_df = df.iloc[:, 0]\n",
    "label_df = df.iloc[:, 1]\n",
    "\n",
    "# create a list of tuples\n",
    "image_label_list = list(zip(input_df, label_df))\n",
    "\n",
    "# create a dataset object\n",
    "dataset = Dataset()\n",
    "\n",
    "# create a dataloader object\n",
    "dataloader = DataLoader(image_label_list, batch_size=batch_size, shuffle=True)\n",
    "\n",
    "print('number of images in dataset: {}'.format(len(dataloader)))\n",
    "\n",
    "result_dir = \"results/\"\n",
    "if not os.path.isdir(result_dir):\n",
    "                os.makedirs(result_dir)"
   ]
  },
  {
   "cell_type": "code",
   "execution_count": 32,
   "metadata": {},
   "outputs": [],
   "source": [
    "# Print network summary\n",
    "#summary(Net)"
   ]
  },
  {
   "cell_type": "code",
   "execution_count": 4,
   "metadata": {},
   "outputs": [
    {
     "name": "stderr",
     "output_type": "stream",
     "text": [
      "  1%|          | 1/100 [06:37<10:55:51, 397.49s/it]"
     ]
    },
    {
     "name": "stdout",
     "output_type": "stream",
     "text": [
      "model saved at epoch 0\n"
     ]
    },
    {
     "name": "stderr",
     "output_type": "stream",
     "text": [
      "  6%|▌         | 6/100 [39:24<10:22:52, 397.58s/it]"
     ]
    },
    {
     "name": "stdout",
     "output_type": "stream",
     "text": [
      "model saved at epoch 5\n"
     ]
    },
    {
     "name": "stderr",
     "output_type": "stream",
     "text": [
      " 11%|█         | 11/100 [1:13:11<10:00:26, 404.79s/it]"
     ]
    },
    {
     "name": "stdout",
     "output_type": "stream",
     "text": [
      "model saved at epoch 10\n"
     ]
    },
    {
     "name": "stderr",
     "output_type": "stream",
     "text": [
      " 16%|█▌        | 16/100 [1:47:09<9:31:19, 408.09s/it] "
     ]
    },
    {
     "name": "stdout",
     "output_type": "stream",
     "text": [
      "model saved at epoch 15\n"
     ]
    },
    {
     "name": "stderr",
     "output_type": "stream",
     "text": [
      " 21%|██        | 21/100 [2:20:54<8:53:44, 405.37s/it]"
     ]
    },
    {
     "name": "stdout",
     "output_type": "stream",
     "text": [
      "model saved at epoch 20\n"
     ]
    },
    {
     "name": "stderr",
     "output_type": "stream",
     "text": [
      " 26%|██▌       | 26/100 [2:54:25<8:16:28, 402.55s/it]"
     ]
    },
    {
     "name": "stdout",
     "output_type": "stream",
     "text": [
      "model saved at epoch 25\n"
     ]
    },
    {
     "name": "stderr",
     "output_type": "stream",
     "text": [
      " 31%|███       | 31/100 [3:27:56<7:42:25, 402.11s/it]"
     ]
    },
    {
     "name": "stdout",
     "output_type": "stream",
     "text": [
      "model saved at epoch 30\n"
     ]
    },
    {
     "name": "stderr",
     "output_type": "stream",
     "text": [
      " 36%|███▌      | 36/100 [4:01:21<7:08:21, 401.59s/it]"
     ]
    },
    {
     "name": "stdout",
     "output_type": "stream",
     "text": [
      "model saved at epoch 35\n"
     ]
    },
    {
     "name": "stderr",
     "output_type": "stream",
     "text": [
      " 41%|████      | 41/100 [4:34:57<6:35:41, 402.40s/it]"
     ]
    },
    {
     "name": "stdout",
     "output_type": "stream",
     "text": [
      "model saved at epoch 40\n"
     ]
    },
    {
     "name": "stderr",
     "output_type": "stream",
     "text": [
      " 46%|████▌     | 46/100 [5:08:29<6:03:27, 403.85s/it]"
     ]
    },
    {
     "name": "stdout",
     "output_type": "stream",
     "text": [
      "model saved at epoch 45\n"
     ]
    },
    {
     "name": "stderr",
     "output_type": "stream",
     "text": [
      " 51%|█████     | 51/100 [5:41:53<5:27:34, 401.11s/it]"
     ]
    },
    {
     "name": "stdout",
     "output_type": "stream",
     "text": [
      "model saved at epoch 50\n"
     ]
    },
    {
     "name": "stderr",
     "output_type": "stream",
     "text": [
      " 56%|█████▌    | 56/100 [6:15:23<4:55:05, 402.39s/it]"
     ]
    },
    {
     "name": "stdout",
     "output_type": "stream",
     "text": [
      "model saved at epoch 55\n"
     ]
    },
    {
     "name": "stderr",
     "output_type": "stream",
     "text": [
      " 61%|██████    | 61/100 [6:48:58<4:21:27, 402.24s/it]"
     ]
    },
    {
     "name": "stdout",
     "output_type": "stream",
     "text": [
      "model saved at epoch 60\n"
     ]
    },
    {
     "name": "stderr",
     "output_type": "stream",
     "text": [
      " 66%|██████▌   | 66/100 [7:22:35<3:48:33, 403.35s/it]"
     ]
    },
    {
     "name": "stdout",
     "output_type": "stream",
     "text": [
      "model saved at epoch 65\n"
     ]
    },
    {
     "name": "stderr",
     "output_type": "stream",
     "text": [
      " 71%|███████   | 71/100 [7:56:02<3:14:29, 402.39s/it]"
     ]
    },
    {
     "name": "stdout",
     "output_type": "stream",
     "text": [
      "model saved at epoch 70\n"
     ]
    },
    {
     "name": "stderr",
     "output_type": "stream",
     "text": [
      " 76%|███████▌  | 76/100 [8:29:40<2:41:34, 403.95s/it]"
     ]
    },
    {
     "name": "stdout",
     "output_type": "stream",
     "text": [
      "model saved at epoch 75\n"
     ]
    },
    {
     "name": "stderr",
     "output_type": "stream",
     "text": [
      " 81%|████████  | 81/100 [9:03:18<2:07:43, 403.34s/it]"
     ]
    },
    {
     "name": "stdout",
     "output_type": "stream",
     "text": [
      "model saved at epoch 80\n"
     ]
    },
    {
     "name": "stderr",
     "output_type": "stream",
     "text": [
      " 86%|████████▌ | 86/100 [9:36:48<1:33:41, 401.53s/it]"
     ]
    },
    {
     "name": "stdout",
     "output_type": "stream",
     "text": [
      "model saved at epoch 85\n"
     ]
    },
    {
     "name": "stderr",
     "output_type": "stream",
     "text": [
      " 91%|█████████ | 91/100 [10:10:20<1:00:18, 402.08s/it]"
     ]
    },
    {
     "name": "stdout",
     "output_type": "stream",
     "text": [
      "model saved at epoch 90\n"
     ]
    },
    {
     "name": "stderr",
     "output_type": "stream",
     "text": [
      " 96%|█████████▌| 96/100 [10:43:56<26:51, 402.90s/it]  "
     ]
    },
    {
     "name": "stdout",
     "output_type": "stream",
     "text": [
      "model saved at epoch 95\n"
     ]
    },
    {
     "name": "stderr",
     "output_type": "stream",
     "text": [
      "100%|██████████| 100/100 [11:11:05<00:00, 402.66s/it]\n"
     ]
    },
    {
     "data": {
      "image/png": "[encoded data removed]",
      "text/plain": [
       "<Figure size 640x480 with 1 Axes>"
      ]
     },
     "metadata": {},
     "output_type": "display_data"
    }
   ],
   "source": [
    "epoch_loss = 0\n",
    "cnt = 0\n",
    "\n",
    "\n",
    "# loop over epochs with tqdm progress bar\n",
    "t = trange(n_epochs, leave=True)\n",
    "for epoch in t:\n",
    "    # initialize the training and validation loss for this epoch\n",
    "    train_loss_epoch = 0.0\n",
    "    valid_loss_epoch = 0.0\n",
    "\n",
    "    # set the model to training mode\n",
    "    Net.train()\n",
    "\n",
    "\n",
    "    # loop over the training data\n",
    "    #### IMPORTANT ####\n",
    "    # len(images) == 3, if we are in the small size, so perhaps we can\n",
    "    # heuristically increase this in order to get better results\n",
    "    # sinze now it's just 3 images per epoch\n",
    "    for input, label in dataloader:\n",
    "        # load the first image and label\n",
    "        # print(' ------------ new batch --------------')\n",
    "        # print(\"Input: \" + str(input))\n",
    "        # print(\"Label: \" + str(label))\n",
    "\n",
    "        input = input[0]\n",
    "        label = label[0]\n",
    "\n",
    "        exposure_input = float(((input.split('_'))[-1]).rstrip('s.ARW'))\n",
    "        exposure_label = float(((label.split('_'))[-1]).rstrip('s.ARW'))\n",
    "        ratio = min(exposure_label / exposure_input, 300)\n",
    "\n",
    "\n",
    "        #image = rawpy.imread(input)\n",
    "        image = functions.pack_raw_sony(rawpy.imread(input)) * ratio\n",
    "        #image = np.expand_dims(image, axis=0)\n",
    "        label = rawpy.imread(label)\n",
    "\n",
    "        # convert the image and label to numpy arrays\n",
    "        #image = image.postprocess(use_camera_wb=True, half_size=False, no_auto_bright=True, output_bps=16)\n",
    "        label = label.postprocess(use_camera_wb=True, half_size=False, no_auto_bright=True, output_bps=16)\n",
    "\n",
    "        # convert the image and label to float32 data type\n",
    "        #image = np.float32(image / 65535.0)\n",
    "        label = np.float32(label / 65535.0)\n",
    "        #label = np.expand_dims(label, axis=0)\n",
    "\n",
    "        # strip input and label from paranthese\n",
    "        # if cnt % 20 == 0:\n",
    "        #     # display the image and label\n",
    "        #     # print(\"Input:\")\n",
    "        #     # plt.imshow(image)\n",
    "        #     # plt.show()\n",
    "        #     print(\"Label:\")\n",
    "        #     plt.imshow(label)\n",
    "        #     plt.show()\n",
    "\n",
    "\n",
    "        ####### POSTPROCESSING #######\n",
    "\n",
    "        # crop the image and label to 512 x 512\n",
    "        image, label = functions.random_crop(image, label, patch_size)\n",
    "\n",
    "        # if cnt % 20 == 0:\n",
    "        #     # display the image and label\n",
    "        #     # print(\"Input patch:\")\n",
    "        #     # plt.imshow(image)\n",
    "        #     # plt.show()\n",
    "        #     print(\"Label patch:\")\n",
    "        #     plt.imshow(label)\n",
    "        #     plt.show()\n",
    "\n",
    "        # convert the image and label to tensors\n",
    "        image = torch.from_numpy(np.expand_dims(np.transpose(image, (2, 0, 1)), axis=0))\n",
    "        label = torch.from_numpy(np.expand_dims(np.transpose(label, (2, 0, 1)), axis=0))\n",
    "\n",
    "        # move the image and label to the device\n",
    "        image, label = image.to(device), label.to(device)\n",
    "\n",
    "        # forward pass\n",
    "        output = Net(image)\n",
    "\n",
    "        # calculate the loss\n",
    "        loss = loss_function(output, label)\n",
    "\n",
    "        if cnt % 20 == 0:\n",
    "            # # also display the input patch\n",
    "            # # print(\"Label:\")\n",
    "            label_image = label[0].cpu().detach().numpy().transpose(1, 2, 0)\n",
    "            # # plt.imshow(label_image)\n",
    "            # # plt.show()\n",
    "            # print(\"Output:\")\n",
    "            output_image = output[0].cpu().detach().numpy().transpose(1, 2, 0)\n",
    "            output_image = np.minimum(np.maximum(output_image, 0), 1)\n",
    "            output_image = np.concatenate((label_image, output_image), axis=1)\n",
    "            # #output_image[:, :, [0, 1]] = output_image[:, :, [1, 0]]\n",
    "            # plt.imshow(output_image)\n",
    "            # plt.show()\n",
    "            # print(f\"Loss: {loss.item()}\")\n",
    "\n",
    "            if not os.path.isdir(result_dir + '%04d' % epoch):\n",
    "                os.makedirs(result_dir + '%04d' % epoch)\n",
    "            functions.toimage(output_image * 255, high=255, low=0, cmin=0, cmax=255).save(\n",
    "                result_dir + '%04d/%05d_' % (epoch, ratio) + str(os.path.basename(input)[:-3]) + 'jpg')\n",
    "            \n",
    "\n",
    "        # backward pass\n",
    "        loss.backward()\n",
    "\n",
    "        # update the weights\n",
    "        optimizer.step()\n",
    "\n",
    "        # clear the gradients\n",
    "        optimizer.zero_grad()\n",
    "\n",
    "        # print the loss\n",
    "        # print(\"==> Loss: {}\".format(loss.item()))\n",
    "        epoch_loss = loss.item()\n",
    "\n",
    "        # update the training loss\n",
    "        train_loss_epoch += loss.item()\n",
    "\n",
    "        # append loss to the list\n",
    "        train_loss.append(loss.item())\n",
    "\n",
    "        cnt = cnt + 1 \n",
    "            # save state of network every 5 epochs\n",
    "    if epoch % 5 == 0:\n",
    "        savedir = 'saved_models/'\n",
    "        if not os.path.isdir(savedir):\n",
    "            os.makedirs(savedir)\n",
    "        torch.save(Net.state_dict(), savedir + 'model_epoch_' + str(epoch) + '.pth')\n",
    "        torch.save(optimizer.state_dict(), savedir + 'model_epoch_' + str(epoch) + \"_optimizer.pth\")\n",
    "        print('model saved at epoch {}'.format(epoch))\n",
    "        \n",
    "\n",
    "# plot loss\n",
    "plt.plot(train_loss)\n",
    "plt.title(\"Training Loss\")\n",
    "plt.xlabel(\"Iteration\")\n",
    "plt.ylabel(\"Loss\")\n",
    "plt.show()\n",
    "\n",
    "# plot"
   ]
  },
  {
   "cell_type": "code",
   "execution_count": 5,
   "metadata": {},
   "outputs": [
    {
     "name": "stdout",
     "output_type": "stream",
     "text": [
      "Model's state_dict:\n",
      "e1.conv.conv1.weight \t torch.Size([32, 4, 3, 3])\n",
      "e1.conv.conv1.bias \t torch.Size([32])\n",
      "e1.conv.bn1.weight \t torch.Size([32])\n",
      "e1.conv.bn1.bias \t torch.Size([32])\n",
      "e1.conv.bn1.running_mean \t torch.Size([32])\n",
      "e1.conv.bn1.running_var \t torch.Size([32])\n",
      "e1.conv.bn1.num_batches_tracked \t torch.Size([])\n",
      "e1.conv.conv2.weight \t torch.Size([32, 32, 3, 3])\n",
      "e1.conv.conv2.bias \t torch.Size([32])\n",
      "e1.conv.bn2.weight \t torch.Size([32])\n",
      "e1.conv.bn2.bias \t torch.Size([32])\n",
      "e1.conv.bn2.running_mean \t torch.Size([32])\n",
      "e1.conv.bn2.running_var \t torch.Size([32])\n",
      "e1.conv.bn2.num_batches_tracked \t torch.Size([])\n",
      "e2.conv.conv1.weight \t torch.Size([64, 32, 3, 3])\n",
      "e2.conv.conv1.bias \t torch.Size([64])\n",
      "e2.conv.bn1.weight \t torch.Size([64])\n",
      "e2.conv.bn1.bias \t torch.Size([64])\n",
      "e2.conv.bn1.running_mean \t torch.Size([64])\n",
      "e2.conv.bn1.running_var \t torch.Size([64])\n",
      "e2.conv.bn1.num_batches_tracked \t torch.Size([])\n",
      "e2.conv.conv2.weight \t torch.Size([64, 64, 3, 3])\n",
      "e2.conv.conv2.bias \t torch.Size([64])\n",
      "e2.conv.bn2.weight \t torch.Size([64])\n",
      "e2.conv.bn2.bias \t torch.Size([64])\n",
      "e2.conv.bn2.running_mean \t torch.Size([64])\n",
      "e2.conv.bn2.running_var \t torch.Size([64])\n",
      "e2.conv.bn2.num_batches_tracked \t torch.Size([])\n",
      "e3.conv.conv1.weight \t torch.Size([128, 64, 3, 3])\n",
      "e3.conv.conv1.bias \t torch.Size([128])\n",
      "e3.conv.bn1.weight \t torch.Size([128])\n",
      "e3.conv.bn1.bias \t torch.Size([128])\n",
      "e3.conv.bn1.running_mean \t torch.Size([128])\n",
      "e3.conv.bn1.running_var \t torch.Size([128])\n",
      "e3.conv.bn1.num_batches_tracked \t torch.Size([])\n",
      "e3.conv.conv2.weight \t torch.Size([128, 128, 3, 3])\n",
      "e3.conv.conv2.bias \t torch.Size([128])\n",
      "e3.conv.bn2.weight \t torch.Size([128])\n",
      "e3.conv.bn2.bias \t torch.Size([128])\n",
      "e3.conv.bn2.running_mean \t torch.Size([128])\n",
      "e3.conv.bn2.running_var \t torch.Size([128])\n",
      "e3.conv.bn2.num_batches_tracked \t torch.Size([])\n",
      "e4.conv.conv1.weight \t torch.Size([256, 128, 3, 3])\n",
      "e4.conv.conv1.bias \t torch.Size([256])\n",
      "e4.conv.bn1.weight \t torch.Size([256])\n",
      "e4.conv.bn1.bias \t torch.Size([256])\n",
      "e4.conv.bn1.running_mean \t torch.Size([256])\n",
      "e4.conv.bn1.running_var \t torch.Size([256])\n",
      "e4.conv.bn1.num_batches_tracked \t torch.Size([])\n",
      "e4.conv.conv2.weight \t torch.Size([256, 256, 3, 3])\n",
      "e4.conv.conv2.bias \t torch.Size([256])\n",
      "e4.conv.bn2.weight \t torch.Size([256])\n",
      "e4.conv.bn2.bias \t torch.Size([256])\n",
      "e4.conv.bn2.running_mean \t torch.Size([256])\n",
      "e4.conv.bn2.running_var \t torch.Size([256])\n",
      "e4.conv.bn2.num_batches_tracked \t torch.Size([])\n",
      "b.conv1.weight \t torch.Size([512, 256, 3, 3])\n",
      "b.conv1.bias \t torch.Size([512])\n",
      "b.bn1.weight \t torch.Size([512])\n",
      "b.bn1.bias \t torch.Size([512])\n",
      "b.bn1.running_mean \t torch.Size([512])\n",
      "b.bn1.running_var \t torch.Size([512])\n",
      "b.bn1.num_batches_tracked \t torch.Size([])\n",
      "b.conv2.weight \t torch.Size([512, 512, 3, 3])\n",
      "b.conv2.bias \t torch.Size([512])\n",
      "b.bn2.weight \t torch.Size([512])\n",
      "b.bn2.bias \t torch.Size([512])\n",
      "b.bn2.running_mean \t torch.Size([512])\n",
      "b.bn2.running_var \t torch.Size([512])\n",
      "b.bn2.num_batches_tracked \t torch.Size([])\n",
      "d1.up.weight \t torch.Size([512, 256, 2, 2])\n",
      "d1.up.bias \t torch.Size([256])\n",
      "d1.conv.conv1.weight \t torch.Size([256, 512, 3, 3])\n",
      "d1.conv.conv1.bias \t torch.Size([256])\n",
      "d1.conv.bn1.weight \t torch.Size([256])\n",
      "d1.conv.bn1.bias \t torch.Size([256])\n",
      "d1.conv.bn1.running_mean \t torch.Size([256])\n",
      "d1.conv.bn1.running_var \t torch.Size([256])\n",
      "d1.conv.bn1.num_batches_tracked \t torch.Size([])\n",
      "d1.conv.conv2.weight \t torch.Size([256, 256, 3, 3])\n",
      "d1.conv.conv2.bias \t torch.Size([256])\n",
      "d1.conv.bn2.weight \t torch.Size([256])\n",
      "d1.conv.bn2.bias \t torch.Size([256])\n",
      "d1.conv.bn2.running_mean \t torch.Size([256])\n",
      "d1.conv.bn2.running_var \t torch.Size([256])\n",
      "d1.conv.bn2.num_batches_tracked \t torch.Size([])\n",
      "d2.up.weight \t torch.Size([256, 128, 2, 2])\n",
      "d2.up.bias \t torch.Size([128])\n",
      "d2.conv.conv1.weight \t torch.Size([128, 256, 3, 3])\n",
      "d2.conv.conv1.bias \t torch.Size([128])\n",
      "d2.conv.bn1.weight \t torch.Size([128])\n",
      "d2.conv.bn1.bias \t torch.Size([128])\n",
      "d2.conv.bn1.running_mean \t torch.Size([128])\n",
      "d2.conv.bn1.running_var \t torch.Size([128])\n",
      "d2.conv.bn1.num_batches_tracked \t torch.Size([])\n",
      "d2.conv.conv2.weight \t torch.Size([128, 128, 3, 3])\n",
      "d2.conv.conv2.bias \t torch.Size([128])\n",
      "d2.conv.bn2.weight \t torch.Size([128])\n",
      "d2.conv.bn2.bias \t torch.Size([128])\n",
      "d2.conv.bn2.running_mean \t torch.Size([128])\n",
      "d2.conv.bn2.running_var \t torch.Size([128])\n",
      "d2.conv.bn2.num_batches_tracked \t torch.Size([])\n",
      "d3.up.weight \t torch.Size([128, 64, 2, 2])\n",
      "d3.up.bias \t torch.Size([64])\n",
      "d3.conv.conv1.weight \t torch.Size([64, 128, 3, 3])\n",
      "d3.conv.conv1.bias \t torch.Size([64])\n",
      "d3.conv.bn1.weight \t torch.Size([64])\n",
      "d3.conv.bn1.bias \t torch.Size([64])\n",
      "d3.conv.bn1.running_mean \t torch.Size([64])\n",
      "d3.conv.bn1.running_var \t torch.Size([64])\n",
      "d3.conv.bn1.num_batches_tracked \t torch.Size([])\n",
      "d3.conv.conv2.weight \t torch.Size([64, 64, 3, 3])\n",
      "d3.conv.conv2.bias \t torch.Size([64])\n",
      "d3.conv.bn2.weight \t torch.Size([64])\n",
      "d3.conv.bn2.bias \t torch.Size([64])\n",
      "d3.conv.bn2.running_mean \t torch.Size([64])\n",
      "d3.conv.bn2.running_var \t torch.Size([64])\n",
      "d3.conv.bn2.num_batches_tracked \t torch.Size([])\n",
      "d4.up.weight \t torch.Size([64, 32, 2, 2])\n",
      "d4.up.bias \t torch.Size([32])\n",
      "d4.conv.conv1.weight \t torch.Size([32, 64, 3, 3])\n",
      "d4.conv.conv1.bias \t torch.Size([32])\n",
      "d4.conv.bn1.weight \t torch.Size([32])\n",
      "d4.conv.bn1.bias \t torch.Size([32])\n",
      "d4.conv.bn1.running_mean \t torch.Size([32])\n",
      "d4.conv.bn1.running_var \t torch.Size([32])\n",
      "d4.conv.bn1.num_batches_tracked \t torch.Size([])\n",
      "d4.conv.conv2.weight \t torch.Size([32, 32, 3, 3])\n",
      "d4.conv.conv2.bias \t torch.Size([32])\n",
      "d4.conv.bn2.weight \t torch.Size([32])\n",
      "d4.conv.bn2.bias \t torch.Size([32])\n",
      "d4.conv.bn2.running_mean \t torch.Size([32])\n",
      "d4.conv.bn2.running_var \t torch.Size([32])\n",
      "d4.conv.bn2.num_batches_tracked \t torch.Size([])\n",
      "outputs.weight \t torch.Size([12, 32, 1, 1])\n",
      "outputs.bias \t torch.Size([12])\n"
     ]
    },
    {
     "data": {
      "image/png": "[encoded data removed]",
      "text/plain": [
       "<Figure size 640x480 with 1 Axes>"
      ]
     },
     "metadata": {},
     "output_type": "display_data"
    }
   ],
   "source": [
    "# Print model's state_dict\n",
    "print(\"Model's state_dict:\")\n",
    "for param_tensor in Net.state_dict():\n",
    "    print(param_tensor, \"\\t\", Net.state_dict()[param_tensor].size())\n",
    "\n",
    "plt.plot(train_loss)\n",
    "plt.title(\"Training Loss\")\n",
    "plt.xlabel(\"Iteration\")\n",
    "plt.ylabel(\"Loss\")\n",
    "plt.show()\n",
    "\n",
    "checkpoint_dir = \"checkpoints_private\"\n",
    "if not os.path.isdir(checkpoint_dir):\n",
    "                os.makedirs(checkpoint_dir)\n",
    "\n",
    "torch.save(Net.state_dict(), \"checkpoints_private/2023_04_09_short_100_state.pt\")\n",
    "torch.save(optimizer.state_dict(), \"checkpoints_private/2023_04_09_short_100_optimizer.pt\")"
   ]
  },
  {
   "cell_type": "code",
   "execution_count": 17,
   "metadata": {
    "collapsed": false
   },
   "outputs": [
    {
     "name": "stderr",
     "output_type": "stream",
     "text": [
      "Loss: 100%|██████████| 37/37 [01:18<00:00,  2.20s/it]"
     ]
    },
    {
     "data": {
      "image/png": "[encoded data removed]",
      "text/plain": [
       "<Figure size 432x288 with 1 Axes>"
      ]
     },
     "metadata": {
      "needs_background": "light"
     },
     "output_type": "display_data"
    }
   ],
   "source": [
    "result_dir = \"results_test_without_load/\"\n",
    "if not os.path.isdir(result_dir):\n",
    "                os.makedirs(result_dir)\n",
    "\n",
    "test_loss = []\n",
    "\n",
    "t = trange(len(dataloader), desc='Loss: ', leave=True)\n",
    "t.reset()\n",
    "#for epoch in t:\n",
    "\n",
    "for input, label in dataloader:\n",
    "    # load the first image and label\n",
    "    # print(' ------------ new batch --------------')\n",
    "    # print(\"Input: \" + str(input))\n",
    "    # print(\"Label: \" + str(label))\n",
    "    input = input[0]\n",
    "    label = label[0]\n",
    "\n",
    "    exposure_input = float(((input.split('_'))[-1]).rstrip('s.ARW'))\n",
    "    exposure_label = float(((label.split('_'))[-1]).rstrip('s.ARW'))\n",
    "    ratio = min(exposure_label / exposure_input, 300)\n",
    "\n",
    "    # image = rawpy.imread(input)\n",
    "    image = functions.pack_raw_sony(rawpy.imread(input)) * ratio\n",
    "    # image = np.expand_dims(image, axis=0)\n",
    "    label = rawpy.imread(label)\n",
    "\n",
    "    # convert the image and label to numpy arrays\n",
    "    # image = image.postprocess(use_camera_wb=True, half_size=False, no_auto_bright=True, output_bps=16)\n",
    "    label = label.postprocess(use_camera_wb=True, half_size=False, no_auto_bright=True, output_bps=16)\n",
    "\n",
    "    # convert the image and label to float32 data type\n",
    "    # image = np.float32(image / 65535.0)\n",
    "    label = np.float32(label / 65535.0)\n",
    "    # label = np.expand_dims(label, axis=0)\n",
    "    image = np.minimum(image, 1.0)\n",
    "    ####### POSTPROCESSING #######\n",
    "\n",
    "    # crop the image and label to 512 x 512\n",
    "    image, label = functions.random_crop(image, label, patch_size)\n",
    "\n",
    "\n",
    "    # convert the image and label to tensors\n",
    "    image = torch.from_numpy(np.expand_dims(np.transpose(image, (2, 0, 1)), axis=0))\n",
    "    label = torch.from_numpy(np.expand_dims(np.transpose(label, (2, 0, 1)), axis=0))\n",
    "\n",
    "    # move the image and label to the device\n",
    "    image, label = image.to(device), label.to(device)\n",
    "\n",
    "    # forward pass\n",
    "    output = Net(image)\n",
    "\n",
    "    # calculate the loss\n",
    "    loss = loss_function(output, label)\n",
    "\n",
    "    if cnt % 1 == 0:\n",
    "        label_image = label[0].cpu().detach().numpy().transpose(1, 2, 0)\n",
    "\n",
    "        output_image = output[0].cpu().detach().numpy().transpose(1, 2, 0)\n",
    "        output_image = np.minimum(np.maximum(output_image, 0), 1)\n",
    "        output_image = np.concatenate((label_image, output_image), axis=1)\n",
    "\n",
    "        if not os.path.isdir(result_dir):\n",
    "            os.makedirs(result_dir)\n",
    "        functions.toimage(output_image * 255, high=255, low=0, cmin=0, cmax=255).save(\n",
    "            result_dir + '%05d_' % ratio + str(os.path.basename(input)[:-3]) + 'jpg')\n",
    "\n",
    "    # append loss to the list\n",
    "    test_loss.append(loss.item())\n",
    "\n",
    "    cnt = cnt + 1\n",
    "    t.update()\n",
    "\n",
    "\n",
    "# plot loss\n",
    "plt.plot(test_loss)\n",
    "plt.title(\"Test Loss\")\n",
    "plt.xlabel(\"Iteration\")\n",
    "plt.ylabel(\"Loss\")\n",
    "plt.show()"
   ]
  }
 ],
 "metadata": {
  "kernelspec": {
   "display_name": "Python 3",
   "language": "python",
   "name": "python3"
  },
  "language_info": {
   "codemirror_mode": {
    "name": "ipython",
    "version": 3
   },
   "file_extension": ".py",
   "mimetype": "text/x-python",
   "name": "python",
   "nbconvert_exporter": "python",
   "pygments_lexer": "ipython3",
   "version": "3.10.6"
  },
  "orig_nbformat": 4
 },
 "nbformat": 4,
 "nbformat_minor": 2
}
