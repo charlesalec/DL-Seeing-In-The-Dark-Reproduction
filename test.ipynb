{
 "cells": [
  {
   "cell_type": "code",
   "execution_count": 1,
   "metadata": {},
   "outputs": [],
   "source": [
    "from unet import *\n",
    "import functions\n",
    "import numpy as np\n",
    "import os\n",
    "import cv2\n",
    "import matplotlib.pyplot as plt\n",
    "import torch\n",
    "import torch.nn as nn\n",
    "import torch.optim as optim\n",
    "from tqdm import trange\n",
    "from torch.utils.data import DataLoader\n",
    "from torch.utils.data import Dataset\n",
    "import pandas as pd\n",
    "import scipy.io\n",
    "# tensor summary import\n",
    "from torchsummary import summary"
   ]
  },
  {
   "cell_type": "code",
   "execution_count": 78,
   "metadata": {
    "collapsed": false
   },
   "outputs": [
    {
     "name": "stdout",
     "output_type": "stream",
     "text": [
      "==> Device: cuda\n"
     ]
    }
   ],
   "source": [
    "checkpoint = \"checkpoints_private/2023_03_30.pt\"\n",
    "#checkpoint = \"saved_models/model_epoch_30.pth\"\n",
    "#checkpoint = \"checkpoints_private/2023_04_08.pt\"\n",
    "#checkpoint = \"checkpoints_private/2023_04_09_extrashort.pt\"\n",
    "#checkpoint = \"checkpoints_private/2023_04_09_short_100_state.pt\"\n",
    "\n",
    "Net = build_unet()\n",
    "Net.load_state_dict(torch.load(checkpoint))\n",
    "\n",
    "#Net.eval()\n",
    "torch.no_grad()\n",
    "# check if CUDA is available, and set it as the device\n",
    "device = torch.device(\"cuda\" if torch.cuda.is_available() else \"cpu\")\n",
    "print(\"==> Device: {}\".format(device))\n",
    "\n",
    "# move model to the device\n",
    "Net.to(device)\n",
    "\n",
    "# define loss function\n",
    "#loss_function = nn.MSELoss()\n",
    "loss_function = nn.L1Loss()\n",
    "\n",
    "####### HYPERPARAMETERS #######\n",
    "\n",
    "# patch size\n",
    "patch_size = 512\n",
    "\n",
    "# batch size\n",
    "batch_size = 1\n",
    "\n",
    "# keep track of the best validation loss\n",
    "valid_loss_min = np.Inf\n",
    "\n",
    "##### LOSS  #######\n",
    "\n",
    "# keep track of training and validation loss\n",
    "test_loss = []\n",
    "valid_loss = []\n",
    "\n",
    "# initialize the early_stopping object\n",
    "# early_stopping = EarlyStopping(patience=early_stopping, verbose=True)\n"
   ]
  },
  {
   "cell_type": "code",
   "execution_count": 79,
   "metadata": {
    "collapsed": false
   },
   "outputs": [
    {
     "name": "stdout",
     "output_type": "stream",
     "text": [
      "number of images in dataset: 37\n"
     ]
    }
   ],
   "source": [
    "# read the list.txt as a space separated dataframe\n",
    "df = pd.read_csv('Sony_test_list.csv', sep=',', header=None)\n",
    "#df = pd.read_csv('list_extrashortkingdom.csv', sep=',', header=None)\n",
    "#df = pd.read_csv('list_shortkingdom.csv', sep=',', header=None)\n",
    "#df = pd.read_csv('list.csv', sep=',', header=None)\n",
    "\n",
    "# split df into input, label columns\n",
    "input_df = df.iloc[:, 0]\n",
    "label_df = df.iloc[:, 1]\n",
    "\n",
    "# create a list of tuples\n",
    "image_label_list = list(zip(input_df, label_df))\n",
    "\n",
    "# create a dataset object\n",
    "dataset = Dataset()\n",
    "\n",
    "# create a dataloader object\n",
    "dataloader = DataLoader(image_label_list, batch_size=batch_size, shuffle=False)\n",
    "\n",
    "print('number of images in dataset: {}'.format(len(dataloader)))\n",
    "\n",
    "result_dir = \"results_test/\"\n",
    "if not os.path.isdir(result_dir):\n",
    "                os.makedirs(result_dir)"
   ]
  },
  {
   "cell_type": "code",
   "execution_count": 80,
   "metadata": {},
   "outputs": [
    {
     "name": "stderr",
     "output_type": "stream",
     "text": [
      "Loss: 100%|██████████| 37/37 [06:31<00:00, 10.59s/it]\n",
      "Loss:  30%|██▉       | 11/37 [00:22<00:50,  1.95s/it]"
     ]
    },
    {
     "ename": "KeyboardInterrupt",
     "evalue": "",
     "output_type": "error",
     "traceback": [
      "\u001B[1;31m---------------------------------------------------------------------------\u001B[0m",
      "\u001B[1;31mKeyboardInterrupt\u001B[0m                         Traceback (most recent call last)",
      "Input \u001B[1;32mIn [80]\u001B[0m, in \u001B[0;36m<cell line: 8>\u001B[1;34m()\u001B[0m\n\u001B[0;32m     60\u001B[0m     \u001B[38;5;28;01mif\u001B[39;00m \u001B[38;5;129;01mnot\u001B[39;00m os\u001B[38;5;241m.\u001B[39mpath\u001B[38;5;241m.\u001B[39misdir(result_dir):\n\u001B[0;32m     61\u001B[0m         os\u001B[38;5;241m.\u001B[39mmakedirs(result_dir)\n\u001B[1;32m---> 62\u001B[0m     \u001B[43mfunctions\u001B[49m\u001B[38;5;241;43m.\u001B[39;49m\u001B[43mtoimage\u001B[49m\u001B[43m(\u001B[49m\u001B[43moutput_image\u001B[49m\u001B[43m \u001B[49m\u001B[38;5;241;43m*\u001B[39;49m\u001B[43m \u001B[49m\u001B[38;5;241;43m255\u001B[39;49m\u001B[43m,\u001B[49m\u001B[43m \u001B[49m\u001B[43mhigh\u001B[49m\u001B[38;5;241;43m=\u001B[39;49m\u001B[38;5;241;43m255\u001B[39;49m\u001B[43m,\u001B[49m\u001B[43m \u001B[49m\u001B[43mlow\u001B[49m\u001B[38;5;241;43m=\u001B[39;49m\u001B[38;5;241;43m0\u001B[39;49m\u001B[43m,\u001B[49m\u001B[43m \u001B[49m\u001B[43mcmin\u001B[49m\u001B[38;5;241;43m=\u001B[39;49m\u001B[38;5;241;43m0\u001B[39;49m\u001B[43m,\u001B[49m\u001B[43m \u001B[49m\u001B[43mcmax\u001B[49m\u001B[38;5;241;43m=\u001B[39;49m\u001B[38;5;241;43m255\u001B[39;49m\u001B[43m)\u001B[49m\u001B[38;5;241m.\u001B[39msave(\n\u001B[0;32m     63\u001B[0m         result_dir \u001B[38;5;241m+\u001B[39m \u001B[38;5;124m'\u001B[39m\u001B[38;5;132;01m%05d\u001B[39;00m\u001B[38;5;124m_\u001B[39m\u001B[38;5;124m'\u001B[39m \u001B[38;5;241m%\u001B[39m ratio \u001B[38;5;241m+\u001B[39m \u001B[38;5;28mstr\u001B[39m(os\u001B[38;5;241m.\u001B[39mpath\u001B[38;5;241m.\u001B[39mbasename(\u001B[38;5;28minput\u001B[39m)[:\u001B[38;5;241m-\u001B[39m\u001B[38;5;241m3\u001B[39m]) \u001B[38;5;241m+\u001B[39m \u001B[38;5;124m'\u001B[39m\u001B[38;5;124mjpg\u001B[39m\u001B[38;5;124m'\u001B[39m)\n\u001B[0;32m     65\u001B[0m \u001B[38;5;66;03m# append loss to the list\u001B[39;00m\n\u001B[0;32m     66\u001B[0m test_loss\u001B[38;5;241m.\u001B[39mappend(loss\u001B[38;5;241m.\u001B[39mitem())\n",
      "File \u001B[1;32mD:\\Rico\\Documents\\PyCharm\\Deep Learning\\DL-Seeing-In-The-Dark-Reproduction\\functions.py:198\u001B[0m, in \u001B[0;36mtoimage\u001B[1;34m(arr, high, low, cmin, cmax, pal, mode, channel_axis)\u001B[0m\n\u001B[0;32m    195\u001B[0m \u001B[38;5;28;01mif\u001B[39;00m numch \u001B[38;5;129;01mnot\u001B[39;00m \u001B[38;5;129;01min\u001B[39;00m [\u001B[38;5;241m3\u001B[39m, \u001B[38;5;241m4\u001B[39m]:\n\u001B[0;32m    196\u001B[0m     \u001B[38;5;28;01mraise\u001B[39;00m \u001B[38;5;167;01mValueError\u001B[39;00m(\u001B[38;5;124m\"\u001B[39m\u001B[38;5;124mChannel axis dimension is not valid.\u001B[39m\u001B[38;5;124m\"\u001B[39m)\n\u001B[1;32m--> 198\u001B[0m bytedata \u001B[38;5;241m=\u001B[39m \u001B[43mbytescale\u001B[49m\u001B[43m(\u001B[49m\u001B[43mdata\u001B[49m\u001B[43m,\u001B[49m\u001B[43m \u001B[49m\u001B[43mhigh\u001B[49m\u001B[38;5;241;43m=\u001B[39;49m\u001B[43mhigh\u001B[49m\u001B[43m,\u001B[49m\u001B[43m \u001B[49m\u001B[43mlow\u001B[49m\u001B[38;5;241;43m=\u001B[39;49m\u001B[43mlow\u001B[49m\u001B[43m,\u001B[49m\u001B[43m \u001B[49m\u001B[43mcmin\u001B[49m\u001B[38;5;241;43m=\u001B[39;49m\u001B[43mcmin\u001B[49m\u001B[43m,\u001B[49m\u001B[43m \u001B[49m\u001B[43mcmax\u001B[49m\u001B[38;5;241;43m=\u001B[39;49m\u001B[43mcmax\u001B[49m\u001B[43m)\u001B[49m\n\u001B[0;32m    199\u001B[0m \u001B[38;5;28;01mif\u001B[39;00m ca \u001B[38;5;241m==\u001B[39m \u001B[38;5;241m2\u001B[39m:\n\u001B[0;32m    200\u001B[0m     strdata \u001B[38;5;241m=\u001B[39m bytedata\u001B[38;5;241m.\u001B[39mtostring()\n",
      "File \u001B[1;32mD:\\Rico\\Documents\\PyCharm\\Deep Learning\\DL-Seeing-In-The-Dark-Reproduction\\functions.py:112\u001B[0m, in \u001B[0;36mbytescale\u001B[1;34m(data, cmin, cmax, high, low)\u001B[0m\n\u001B[0;32m    110\u001B[0m scale \u001B[38;5;241m=\u001B[39m \u001B[38;5;28mfloat\u001B[39m(high \u001B[38;5;241m-\u001B[39m low) \u001B[38;5;241m/\u001B[39m cscale\n\u001B[0;32m    111\u001B[0m bytedata \u001B[38;5;241m=\u001B[39m (data \u001B[38;5;241m-\u001B[39m cmin) \u001B[38;5;241m*\u001B[39m scale \u001B[38;5;241m+\u001B[39m low\n\u001B[1;32m--> 112\u001B[0m \u001B[38;5;28;01mreturn\u001B[39;00m (\u001B[43mbytedata\u001B[49m\u001B[38;5;241;43m.\u001B[39;49m\u001B[43mclip\u001B[49m\u001B[43m(\u001B[49m\u001B[43mlow\u001B[49m\u001B[43m,\u001B[49m\u001B[43m \u001B[49m\u001B[43mhigh\u001B[49m\u001B[43m)\u001B[49m \u001B[38;5;241m+\u001B[39m \u001B[38;5;241m0.5\u001B[39m)\u001B[38;5;241m.\u001B[39mastype(np\u001B[38;5;241m.\u001B[39muint8)\n",
      "File \u001B[1;32m~\\.conda\\envs\\assignment3_cuda\\lib\\site-packages\\numpy\\core\\_methods.py:160\u001B[0m, in \u001B[0;36m_clip\u001B[1;34m(a, min, max, out, casting, **kwargs)\u001B[0m\n\u001B[0;32m    157\u001B[0m     \u001B[38;5;28;01mreturn\u001B[39;00m _clip_dep_invoke_with_casting(\n\u001B[0;32m    158\u001B[0m         um\u001B[38;5;241m.\u001B[39mmaximum, a, \u001B[38;5;28mmin\u001B[39m, out\u001B[38;5;241m=\u001B[39mout, casting\u001B[38;5;241m=\u001B[39mcasting, \u001B[38;5;241m*\u001B[39m\u001B[38;5;241m*\u001B[39mkwargs)\n\u001B[0;32m    159\u001B[0m \u001B[38;5;28;01melse\u001B[39;00m:\n\u001B[1;32m--> 160\u001B[0m     \u001B[38;5;28;01mreturn\u001B[39;00m _clip_dep_invoke_with_casting(\n\u001B[0;32m    161\u001B[0m         um\u001B[38;5;241m.\u001B[39mclip, a, \u001B[38;5;28mmin\u001B[39m, \u001B[38;5;28mmax\u001B[39m, out\u001B[38;5;241m=\u001B[39mout, casting\u001B[38;5;241m=\u001B[39mcasting, \u001B[38;5;241m*\u001B[39m\u001B[38;5;241m*\u001B[39mkwargs)\n",
      "File \u001B[1;32m~\\.conda\\envs\\assignment3_cuda\\lib\\site-packages\\numpy\\core\\_methods.py:114\u001B[0m, in \u001B[0;36m_clip_dep_invoke_with_casting\u001B[1;34m(ufunc, out, casting, *args, **kwargs)\u001B[0m\n\u001B[0;32m    112\u001B[0m \u001B[38;5;66;03m# try to deal with broken casting rules\u001B[39;00m\n\u001B[0;32m    113\u001B[0m \u001B[38;5;28;01mtry\u001B[39;00m:\n\u001B[1;32m--> 114\u001B[0m     \u001B[38;5;28;01mreturn\u001B[39;00m ufunc(\u001B[38;5;241m*\u001B[39margs, out\u001B[38;5;241m=\u001B[39mout, \u001B[38;5;241m*\u001B[39m\u001B[38;5;241m*\u001B[39mkwargs)\n\u001B[0;32m    115\u001B[0m \u001B[38;5;28;01mexcept\u001B[39;00m _exceptions\u001B[38;5;241m.\u001B[39m_UFuncOutputCastingError \u001B[38;5;28;01mas\u001B[39;00m e:\n\u001B[0;32m    116\u001B[0m     \u001B[38;5;66;03m# Numpy 1.17.0, 2019-02-24\u001B[39;00m\n\u001B[0;32m    117\u001B[0m     warnings\u001B[38;5;241m.\u001B[39mwarn(\n\u001B[0;32m    118\u001B[0m         \u001B[38;5;124m\"\u001B[39m\u001B[38;5;124mConverting the output of clip from \u001B[39m\u001B[38;5;132;01m{!r}\u001B[39;00m\u001B[38;5;124m to \u001B[39m\u001B[38;5;132;01m{!r}\u001B[39;00m\u001B[38;5;124m is deprecated. \u001B[39m\u001B[38;5;124m\"\u001B[39m\n\u001B[0;32m    119\u001B[0m         \u001B[38;5;124m\"\u001B[39m\u001B[38;5;124mPass `casting=\u001B[39m\u001B[38;5;130;01m\\\"\u001B[39;00m\u001B[38;5;124munsafe\u001B[39m\u001B[38;5;130;01m\\\"\u001B[39;00m\u001B[38;5;124m` explicitly to silence this warning, or \u001B[39m\u001B[38;5;124m\"\u001B[39m\n\u001B[1;32m   (...)\u001B[0m\n\u001B[0;32m    122\u001B[0m         stacklevel\u001B[38;5;241m=\u001B[39m\u001B[38;5;241m2\u001B[39m\n\u001B[0;32m    123\u001B[0m     )\n",
      "\u001B[1;31mKeyboardInterrupt\u001B[0m: "
     ]
    }
   ],
   "source": [
    "epoch_loss = 0\n",
    "cnt = 0\n",
    "\n",
    "t = trange(len(dataloader), desc='Loss: ', leave=True)\n",
    "t.reset()\n",
    "#for epoch in t:\n",
    "\n",
    "for input, label in dataloader:\n",
    "    # load the first image and label\n",
    "    # print(' ------------ new batch --------------')\n",
    "    # print(\"Input: \" + str(input))\n",
    "    # print(\"Label: \" + str(label))\n",
    "    input = input[0]\n",
    "    label = label[0]\n",
    "\n",
    "    exposure_input = float(((input.split('_'))[-1]).rstrip('s.ARW'))\n",
    "    exposure_label = float(((label.split('_'))[-1]).rstrip('s.ARW'))\n",
    "    ratio = min(exposure_label / exposure_input, 300)\n",
    "\n",
    "    # image = rawpy.imread(input)\n",
    "    image = functions.pack_raw_sony(rawpy.imread(input)) * ratio\n",
    "    # image = np.expand_dims(image, axis=0)\n",
    "    label = rawpy.imread(label)\n",
    "\n",
    "    # convert the image and label to numpy arrays\n",
    "    # image = image.postprocess(use_camera_wb=True, half_size=False, no_auto_bright=True, output_bps=16)\n",
    "    label = label.postprocess(use_camera_wb=True, half_size=False, no_auto_bright=True, output_bps=16)\n",
    "\n",
    "    # convert the image and label to float32 data type\n",
    "    # image = np.float32(image / 65535.0)\n",
    "    label = np.float32(label / 65535.0)\n",
    "    # label = np.expand_dims(label, axis=0)\n",
    "    image = np.minimum(image, 1.0)\n",
    "    ####### POSTPROCESSING #######\n",
    "\n",
    "    # crop the image and label to 512 x 512\n",
    "    image, label = functions.random_crop(image, label, patch_size)\n",
    "\n",
    "\n",
    "    # convert the image and label to tensors\n",
    "    image = torch.from_numpy(np.expand_dims(np.transpose(image, (2, 0, 1)), axis=0))\n",
    "    label = torch.from_numpy(np.expand_dims(np.transpose(label, (2, 0, 1)), axis=0))\n",
    "\n",
    "    # move the image and label to the device\n",
    "    image, label = image.to(device), label.to(device)\n",
    "\n",
    "    # forward pass\n",
    "    output = Net(image)\n",
    "\n",
    "    # calculate the loss\n",
    "    loss = loss_function(output, label)\n",
    "\n",
    "    if cnt % 1 == 0:\n",
    "        label_image = label[0].cpu().detach().numpy().transpose(1, 2, 0)\n",
    "\n",
    "        output_image = output[0].cpu().detach().numpy().transpose(1, 2, 0)\n",
    "        output_image = np.minimum(np.maximum(output_image, 0), 1)\n",
    "        output_image = np.concatenate((label_image, output_image), axis=1)\n",
    "\n",
    "        if not os.path.isdir(result_dir):\n",
    "            os.makedirs(result_dir)\n",
    "        functions.toimage(output_image * 255, high=255, low=0, cmin=0, cmax=255).save(\n",
    "            result_dir + '%05d_' % ratio + str(os.path.basename(input)[:-3]) + 'jpg')\n",
    "\n",
    "    # append loss to the list\n",
    "    test_loss.append(loss.item())\n",
    "\n",
    "    cnt = cnt + 1\n",
    "    t.update()\n",
    "\n",
    "\n",
    "# plot loss\n",
    "plt.plot(test_loss)\n",
    "plt.title(\"Test Loss\")\n",
    "plt.xlabel(\"Iteration\")\n",
    "plt.ylabel(\"Loss\")\n",
    "plt.show()\n",
    "\n",
    "# plot\n"
   ]
  },
  {
   "cell_type": "code",
   "execution_count": 27,
   "outputs": [
    {
     "data": {
      "text/plain": "<Figure size 432x288 with 1 Axes>",
      "image/png": "[encoded data removed]"
     },
     "metadata": {
      "needs_background": "light"
     },
     "output_type": "display_data"
    }
   ],
   "source": [
    "plt.plot(test_loss)\n",
    "plt.title(\"Test Loss\")\n",
    "plt.xlabel(\"Iteration\")\n",
    "plt.ylabel(\"Loss\")\n",
    "plt.show()"
   ],
   "metadata": {
    "collapsed": false
   }
  }
 ],
 "metadata": {
  "kernelspec": {
   "display_name": "Python 3",
   "language": "python",
   "name": "python3"
  },
  "language_info": {
   "codemirror_mode": {
    "name": "ipython",
    "version": 3
   },
   "file_extension": ".py",
   "mimetype": "text/x-python",
   "name": "python",
   "nbconvert_exporter": "python",
   "pygments_lexer": "ipython3",
   "version": "3.10.6"
  },
  "orig_nbformat": 4
 },
 "nbformat": 4,
 "nbformat_minor": 2
}
